{
 "cells": [
  {
   "cell_type": "code",
   "execution_count": 17,
   "id": "db7bee3e-5148-4634-987d-ee8ca2b18cd6",
   "metadata": {},
   "outputs": [
    {
     "name": "stdout",
     "output_type": "stream",
     "text": [
      "Newton iteration  0\n",
      "err =  1366.7543914922153\n",
      "Newton iteration  1\n",
      "err =  19511.657086336483\n",
      "Newton iteration  2\n",
      "err =  8670.910811390902\n",
      "Newton iteration  3\n",
      "err =  3852.2514251241555\n",
      "Newton iteration  4\n",
      "err =  1707.234419616213\n",
      "Newton iteration  5\n",
      "err =  737.7453299297857\n",
      "Newton iteration  6\n",
      "err =  269.3971643043467\n",
      "Newton iteration  7\n",
      "err =  54.03139672483208\n",
      "Newton iteration  8\n",
      "err =  2.9475313394636853\n",
      "Newton iteration  9\n",
      "err =  0.013251107585235303\n",
      "Newton iteration  10\n",
      "err =  3.668872885321871e-07\n",
      "Newton iteration  11\n",
      "err =  9.430619104069554e-14\n"
     ]
    },
    {
     "data": {
      "application/vnd.jupyter.widget-view+json": {
       "model_id": "9f934cb1b8a147d88642277b18627166",
       "version_major": 2,
       "version_minor": 0
      },
      "text/plain": [
       "WebGuiWidget(layout=Layout(height='50vh', width='100%'), value={'gui_settings': {}, 'ngsolve_version': '6.2.24…"
      ]
     },
     "metadata": {},
     "output_type": "display_data"
    },
    {
     "data": {
      "application/vnd.jupyter.widget-view+json": {
       "model_id": "755d5d4a0e314ffeb340d35fa7ad27b4",
       "version_major": 2,
       "version_minor": 0
      },
      "text/plain": [
       "WebGuiWidget(layout=Layout(height='50vh', width='100%'), value={'gui_settings': {}, 'ngsolve_version': '6.2.24…"
      ]
     },
     "metadata": {},
     "output_type": "display_data"
    },
    {
     "name": "stdout",
     "output_type": "stream",
     "text": [
      "L2-error: 0.0067178009756212066\n",
      "H1-error: 0.13355677939373586\n"
     ]
    }
   ],
   "source": [
    "from ngsolve import *\n",
    "# %gui tk\n",
    "from ngsolve.webgui import *\n",
    "# from ngsolve import Draw, Redraw\n",
    "from netgen.geom2d import unit_square\n",
    "from ngsolve.solvers import *\n",
    "from netgen.geom2d import SplineGeometry\n",
    "\n",
    "\n",
    "# ngsglobals.msg_level = 1\n",
    "\n",
    "# generate a triangular mesh of mesh-size 0.1\n",
    "# mesh = Mesh(unit_square.GenerateMesh(maxh=0.4/2/2))\n",
    "\n",
    "# Generate the background mesh\n",
    "square = SplineGeometry()\n",
    "square.AddRectangle((2, 2), (3, 3), bcs= [1,2,3,4])\n",
    "# square.AddRectangle((-2, -2), (2, 2), bcs=[1, 2, 3, 4])\n",
    "mesh = Mesh(square.GenerateMesh(maxh=0.4/2, quad_dominated=False))\n",
    "\n",
    "# H1-conforming finite element space\n",
    "fes = H1(mesh, order=1, dirichlet=\"default\")\n",
    "\n",
    "# coefficient function\n",
    "# f = (-2*x*x)*((-1+x)**2)*(y**2)*((-1+y)**2)*(x**2 + y**2 - x - y)\n",
    "# f = -2*x**2*(-1 + x)**2*y**2*(-1 + y)**2*(x**2 + y**2 - x - y)\n",
    "# rhs = (-10*y**4 + 20*y**3 - 12*y**2 + 2*y)*x**6 + (30*y**4 - 60*y**3 + 36*y**2 - 6*y)*x**5 + (-10*y**6 + 30*y**5 - 60*y**4 + 70*y**3 - 36*y**2 + 6*y)*x**4 + (20*y**6 - 60*y**5 + 70*y**4 - 40*y**3 + 12*y**2 - 2*y)*x**3 + (-12*y**6 + 36*y**5 - 36*y**4 + 12*y**3 - 2)*x**2 + (2*y**6 - 6*y**5 + 6*y**4 - 2*y**3 + 2)*x - 2*y**2 + 2*y\n",
    "# exact = x*(1-x)*y*(1-y)\n",
    "# exact_g = CoefficientFunction(((1 - x)*y*(1 - y) - x*y*(1 - y),x*(1 - x)*(1 - y) - x*(1 - x)*y))\n",
    "\n",
    "exactu = x**2+y**2\n",
    "exact_g = CoefficientFunction((2*x,2*y))\n",
    "rhs =-8*(x**2 + y**2 + 1)*x**2 - 4*(x**2 + y**2 + 1)**2 - 8*(x**2 + y**2 + 1)*y**2\n",
    "\n",
    "# exactu = x*(1-x)*y*(1-y)\n",
    "# exact_g = CoefficientFunction(((1 - x)*y*(1 - y) - x*y*(1 - y),x*(1 - x)*(1 - y) - x*(1 - x)*y))\n",
    "# rhs = -((1 - x)*y*(1 - y) - x*y*(1 - y))**2 + 2*(x*(1 - x)*y*(1 - y) + 1)*y*(1 - y) - (x*(1 - x)*(1 - y) - x*(1 - x)*y)**2 + 2*(x*(1 - x)*y*(1 - y) + 1)*x*(1 - x)\n",
    "\n",
    "# rhs = 2*y*(1 - y) + 2*x*(1 - x)\n",
    "\n",
    "# define trial- and test-functions\n",
    "u = fes.TrialFunction()\n",
    "v = fes.TestFunction()\n",
    "gfu = GridFunction(fes)\n",
    "g = 0\n",
    "\n",
    "# the bilinear-form \n",
    "a = BilinearForm(fes)\n",
    "a += SymbolicBFI( (u+1)**2*grad(u)*grad(v) - rhs*v )\n",
    "#a += (grad(u)*grad(v) - x*v)*dx\n",
    "a.Assemble()\n",
    "\n",
    "# gfu.Set(x*(1-x)*y*(1-y))\n",
    "gfu.Set(exactu, BND)\n",
    "\n",
    "Newton(a,gfu,freedofs=fes.FreeDofs(),maxit=1000,maxerr=1e-13,dampfactor=1,printing=True)\n",
    "Draw(gfu,mesh,\"uh\")\n",
    "Draw(exactu,mesh,\"u\")\n",
    "\n",
    "print (\"L2-error:\", sqrt (Integrate ( (gfu-exactu)*(gfu-exactu), mesh)))\n",
    "print (\"H1-error:\", sqrt (Integrate ( (grad(gfu)-exact_g)**2, mesh)))\n",
    "\n",
    "\n",
    "\n",
    "# # Poisson\n",
    "# a += grad(u)*grad(v)*dx\n",
    "# a.Assemble()\n",
    "\n",
    "# f = LinearForm(fes)\n",
    "# f += rhs*v*dx\n",
    "# f.Assemble()\n",
    "\n",
    "# gfu.vec.data += a.mat.Inverse(fes.FreeDofs()) * f.vec  #,inverse=\"umfpack\"\n",
    "# Draw(gfu,mesh,\"u\")\n",
    "\n",
    "# exact = x*(1-x)*y*(1-y)\n",
    "# exact_g = CoefficientFunction(((1 - x)*y*(1 - y) - x*y*(1 - y),x*(1 - x)*(1 - y) - x*(1 - x)*y))\n",
    "# print (\"L2-error:\", sqrt (Integrate ( (gfu-exact)*(gfu-exact), mesh)))\n",
    "# print (\"H1-error:\", sqrt (Integrate ( (grad(gfu)-exact_g)**2, mesh)))\n"
   ]
  },
  {
   "cell_type": "code",
   "execution_count": null,
   "id": "1370d7d6-794e-4d23-8a8d-52ffb39b1aaa",
   "metadata": {},
   "outputs": [],
   "source": [
    "L2-error: 0.025839527432358\n",
    "H1-error: 0.2583140158516106\n",
    "\n",
    "L2-error: 0.0067178009756212066\n",
    "H1-error: 0.13355677939373586"
   ]
  }
 ],
 "metadata": {
  "kernelspec": {
   "display_name": "Python 3 (ipykernel)",
   "language": "python",
   "name": "python3"
  },
  "language_info": {
   "codemirror_mode": {
    "name": "ipython",
    "version": 3
   },
   "file_extension": ".py",
   "mimetype": "text/x-python",
   "name": "python",
   "nbconvert_exporter": "python",
   "pygments_lexer": "ipython3",
   "version": "3.12.6"
  }
 },
 "nbformat": 4,
 "nbformat_minor": 5
}
